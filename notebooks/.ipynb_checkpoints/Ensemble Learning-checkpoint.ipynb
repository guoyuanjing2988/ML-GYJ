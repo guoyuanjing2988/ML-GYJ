{
 "cells": [
  {
   "cell_type": "markdown",
   "metadata": {},
   "source": [
    "## Ensemble Learning"
   ]
  },
  {
   "cell_type": "raw",
   "metadata": {},
   "source": [
    "In previous classes we introduced many machine learning models. They all have their advantages and disadvantages. In practical usages, we seldom use one of the models along. Instead we use combinations of models to achieve better result. The process of combining multiple machine models to solve a problem is called Ensemble Learning."
   ]
  },
  {
   "cell_type": "markdown",
   "metadata": {},
   "source": [
    "### Ways of combining models"
   ]
  },
  {
   "cell_type": "raw",
   "metadata": {},
   "source": [
    "Just like electric circuits, there are two basic ways for combining machine learning models: In parallel and in series. "
   ]
  },
  {
   "cell_type": "raw",
   "metadata": {},
   "source": [
    "In series is also called stacking. It means that the output of the preceding model will be the input of the following model. This model structure is already used in last class, where the output of feature extraction section in CNN is the input of classification section."
   ]
  },
  {
   "cell_type": "markdown",
   "metadata": {},
   "source": [
    "<td> <img src=\"img/StackingCropped.png\" alt=\"Drawing\" style=\"width: 500px;\"/> </td>"
   ]
  },
  {
   "cell_type": "raw",
   "metadata": {},
   "source": [
    "In parallel is also called voting. It means that instead of using one model to predict, we use multiple models to predict, and take the majority predicted class as output. In parallel is more commonly used in applications."
   ]
  },
  {
   "cell_type": "markdown",
   "metadata": {},
   "source": [
    "<td> <img src=\"img/voting.png\" alt=\"Drawing\" style=\"width: 500px;\"/> </td>"
   ]
  },
  {
   "cell_type": "raw",
   "metadata": {},
   "source": [
    "Ensembling Learning requires more experience. What combination of models to use and how to arrange them are all based on own understanding and feeling. Therefore it requires more experience with tasks."
   ]
  }
 ],
 "metadata": {
  "kernelspec": {
   "display_name": "Python 3",
   "language": "python",
   "name": "python3"
  },
  "language_info": {
   "codemirror_mode": {
    "name": "ipython",
    "version": 3
   },
   "file_extension": ".py",
   "mimetype": "text/x-python",
   "name": "python",
   "nbconvert_exporter": "python",
   "pygments_lexer": "ipython3",
   "version": "3.5.1"
  }
 },
 "nbformat": 4,
 "nbformat_minor": 0
}
